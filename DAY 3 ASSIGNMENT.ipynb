{
 "cells": [
  {
   "cell_type": "markdown",
   "metadata": {},
   "source": [
    "Natural No. Addition\n"
   ]
  },
  {
   "cell_type": "code",
   "execution_count": 8,
   "metadata": {},
   "outputs": [
    {
     "name": "stdout",
     "output_type": "stream",
     "text": [
      "Enter The Number:4\n"
     ]
    }
   ],
   "source": [
    "n=int(input(\"Enter The Number:\"))"
   ]
  },
  {
   "cell_type": "code",
   "execution_count": 9,
   "metadata": {},
   "outputs": [
    {
     "name": "stdout",
     "output_type": "stream",
     "text": [
      "The sum of first  4  natural numbers is 10\n"
     ]
    }
   ],
   "source": [
    "num=1\n",
    "sum=0\n",
    "i=1\n",
    "while(i<=n):\n",
    "    sum=num+sum\n",
    "    num=num+1\n",
    "    i=i+1\n",
    "print(\"The sum of first \",n,\" natural numbers is\",sum)    \n",
    "    "
   ]
  },
  {
   "cell_type": "markdown",
   "metadata": {},
   "source": [
    "Prime Number Verification"
   ]
  },
  {
   "cell_type": "code",
   "execution_count": 13,
   "metadata": {},
   "outputs": [
    {
     "name": "stdout",
     "output_type": "stream",
     "text": [
      "Enter a number: 48\n",
      "48 is not a prime number\n",
      "2 times 24 is 48\n"
     ]
    }
   ],
   "source": [
    "n = int(input(\"Enter a number: \"))  \n",
    "  \n",
    "if n > 1:  \n",
    "   for i in range(2,n):  \n",
    "       if (n % i) == 0:  \n",
    "           print(n,\"is not a prime number\")  \n",
    "           print(i,\"times\",n//i,\"is\",n)  \n",
    "           break  \n",
    "   else:  \n",
    "       print(n,\"is a prime number\")  \n",
    "         \n",
    "else:  \n",
    "   print(n,\"is not a prim48e number\")"
   ]
  },
  {
   "cell_type": "code",
   "execution_count": null,
   "metadata": {},
   "outputs": [],
   "source": []
  }
 ],
 "metadata": {
  "kernelspec": {
   "display_name": "Python 3",
   "language": "python",
   "name": "python3"
  },
  "language_info": {
   "codemirror_mode": {
    "name": "ipython",
    "version": 3
   },
   "file_extension": ".py",
   "mimetype": "text/x-python",
   "name": "python",
   "nbconvert_exporter": "python",
   "pygments_lexer": "ipython3",
   "version": "3.8.2"
  }
 },
 "nbformat": 4,
 "nbformat_minor": 4
}
